{
  "nbformat": 4,
  "nbformat_minor": 0,
  "metadata": {
    "colab": {
      "private_outputs": true,
      "provenance": []
    },
    "kernelspec": {
      "name": "python3",
      "display_name": "Python 3"
    },
    "language_info": {
      "name": "python"
    }
  },
  "cells": [
    {
      "cell_type": "code",
      "execution_count": null,
      "metadata": {
        "id": "Mf1pd8Xs2w_n"
      },
      "outputs": [],
      "source": [
        "#Q1.What are data structures, and why are they important?\n",
        "\"\"\" Ans: Data Structures are used for storing and organising data in a computer. That can accessed in efficiently manners that is data structure.\n",
        "Importance of Data Structures:\n",
        "1.Efficiency: In the data structures data organises in well manners and store so that efficiency of algorithms are improved.\n",
        "2.Organisation: Data structure provided structured and logical way to store data that is reasons code is easily understand and debug.\n",
        "3.Reusability: Data structures are reusable for tasks,reducing development time and effort.\"\"\"\n",
        "\n",
        "#Q2. Explain the difference between mutable and immutable data types with examples?\n",
        "\"\"\"Ans: Mutable data types: Mutable data types can be modify and easily change.\"\"\"\n",
        "my_list = [1,2,3]\n",
        "my_list.append(\"Ram\")\n",
        "print(my_list)"
      ]
    },
    {
      "cell_type": "code",
      "source": [
        "\"\"\" Immutable data types: Immutable data types cannot be changed and modified.\n",
        "t = (1,2,3)\n",
        "t[0] = 5\n",
        "print(t) This is give error.\"\"\"\n",
        "\n",
        "#Q3.What are the main differences between lists and tuples in Python?\n",
        "\"\"\"Ans: List: List are mutable means can modify and change\n",
        "Tuple: Tuples are immutable that can not modified and change\"\"\"\n",
        "my_list = [1,2,3]\n",
        "my_list.append(4)\n",
        "print(my_list)\n",
        "my_tuple = (1,2,3)\n",
        "#my_tuple.append(4)\n",
        "print(my_tuple) # this is show error.\n",
        "\n",
        "#Q4. Describe how dictionaries store data?\n",
        "\"\"\"Ans: In python dictionaries store data in Key-values pair. \"\"\"\n",
        "my_dict = {\"Name\" : \"Alice\",\"Age\" : 30, \"city\" : \"jaipur\" }\n",
        "print(my_dict)\n"
      ],
      "metadata": {
        "id": "C1Tnjb9S_NtB"
      },
      "execution_count": null,
      "outputs": []
    },
    {
      "cell_type": "code",
      "source": [
        "#Q5.Why might you use a set instead of a list in Python?\n",
        "\"\"\"Ans: In the list and set are simmilar but list and set have basic differnce as uniqueness. In the list we use duplicate element but set duplicate value ignored.\n",
        "1.Set ignored the duplicate value but list can have duplicate value.\n",
        "2.Set output give unordered result but list give order result.\n",
        "3.In the ser we can perform union and intersection but list can perform only union and intersection and if you can access element by indexing.\"\"\"\n",
        "\n",
        "#Q6.What is a string in Python, and how is it different from a list?\n",
        "\"\"\"Ans:String: A string is sequence of charactors such as letters,numbers,symbols and closed with single quotes (' ') and double quotes(\"  \")\n",
        "List: In a list can collected different data types such as string,number,boolean values,complex number\n",
        "my_string = \"Ram\" \"123\"\n",
        "my_list = [1,2,3,\"ram\",\"shyam\",true,]\"\"\"\n",
        "\n",
        "#Q7. How do tuples ensure data integrity in Python?\n",
        "\"\"\"Ans.Tuples are immutable.Tuples cannot modified and change that is tuples ensure data inegrity in Python.\n",
        "1.Preventing Accidental Changes\n",
        "2.Data Protection\n",
        "3.Hashing for Data Structures\"\"\"\n",
        "\n",
        "#Q8.What is a hash table, and how does it relate to dictionaries in Python?\n",
        "\"\"\"Ans: A hash table is a data structure that stores data in key-value pairs.\n",
        "In python, When we create dictionaries python interally uses a hash table to store the key-value pairs.\n",
        "Importance of hash table:\n",
        "1.Efficiency:Hash tables provide very fast lookups,insertions,and deletions of data. This is because the hash function directly calculates the index where the value is stored.\"\"\"\n",
        "\n",
        "#Q9.P Can lists contain different data types in Python?\n",
        "\"\"\"Ans:Lists can store different data types such as string,number,boolean values,complex number.\"\"\"\n",
        "\n",
        "#Q10.Explain why strings are immutable in Python?\n",
        "\"\"\"Ans: Stirngs are immutable means that once created string cannot be modified and chnage.\n",
        "These are following reasons.\n",
        "1.Secruity\n",
        "2.Efficent performance.\n",
        "3.Hashings.\"\"\"\n",
        "\n",
        "#Q11.What advantages do dictionaries offer over lists for certain tasks?\n",
        "\"\"\"Ans:Advantages of dictionaries as compare to lists\n",
        "1.Efficient Lookups:Dictionaries use a hash table to store data which allows for very fast lookups,insertions,and deletions of data.\n",
        "2.Key-value association:Dictionaries store data in Key-value pairs,which makes it easy to associate data with specfics keys.This is useful for tasks such as representing real-world objects or storing configuration data. Lists, on the other hand, store data in sequential order, which may not be suitable for associating data with specific keys.\n",
        "3.Flexibility:Dictionaries can store different data types as values,including lists,tuples and other dictionaries.\n",
        "4.Readability:Dictionaries can improve the readability of your code by using meaningful keys to represent data.\"\"\"\n",
        "\n",
        "#Q5.Why might you use a set instead of a list in Python?\n",
        "\"\"\"Ans: In the list and set are simmilar but list and set have basic differnce as uniqueness. In the list we use duplicate element but set duplicate value ignored.\n",
        "1.Set ignored the duplicate value but list can have duplicate value.\n",
        "2.Set output give unordered result but list give order result.\n",
        "3.In the ser we can perform union and intersection but list can perform only union and intersection and if you can access element by indexing.\"\"\"\n",
        "\n",
        "#Q6.What is a string in Python, and how is it different from a list?\n",
        "\"\"\"Ans:String: A string is sequence of charactors such as letters,numbers,symbols and closed with single quotes (' ') and double quotes(\"  \")\n",
        "List: In a list can collected different data types such as string,number,boolean values,complex number\n",
        "my_string = \"Ram\" \"123\"\n",
        "my_list = [1,2,3,\"ram\",\"shyam\",True,]\"\"\"\n",
        "\n",
        "#Q7. How do tuples ensure data integrity in Python?\n",
        "\"\"\"Ans.Tuples are immutable.Tuples cannot modified and change that is tuples ensure data inegrity in Python.\n",
        "1.Preventing Accidental Changes\n",
        "2.Data Protection\n",
        "3.Hashing for Data Structures\"\"\"\n",
        "\n",
        "#Q8.What is a hash table, and how does it relate to dictionaries in Python?\n",
        "\"\"\"Ans: A hash table is a data structure that stores data in key-value pairs.\n",
        "In python, When we create dictionaries python interally uses a hash table to store the key-value pairs.\n",
        "Importance of hash table:\n",
        "1.Efficiency:Hash tables provide very fast lookups,insertions,and deletions of data. This is because the hash function directly calculates the index where the value is stored.\"\"\"\n",
        "\n",
        "#Q9.P Can lists contain different data types in Python?\n",
        "\"\"\"Ans:Lists can store different data types such as string,number,boolean values,complex number.\"\"\"\n",
        "\n",
        "#Q10.Explain why strings are immutable in Python?\n",
        "\"\"\"Ans: Stirngs are immutable means that once created string cannot be modified and chnage.\n",
        "These are following reasons.\n",
        "1.Secruity\n",
        "2.Efficent performance.\n",
        "3.Hashings.\"\"\"\n",
        "\n",
        "#Q11.What advantages do dictionaries offer over lists for certain tasks?\n",
        "\"\"\"Ans:Advantages of dictionaries as compare to lists\n",
        "1.Efficient Lookups:Dictionaries use a hash table to store data which allows for very fast lookups,insertions,and deletions of data.\n",
        "2.Key-value association:Dictionaries store data in Key-value pairs,which makes it easy to associate data with specfics keys.This is useful for tasks such as representing real-world objects or storing configuration data. Lists, on the other hand, store data in sequential order, which may not be suitable for associating data with specific keys.\n",
        "3.Flexibility:Dictionaries can store different data types as values,including lists,tuples and other dictionaries.\n",
        "4.Readability:Dictionaries can improve the readability of your code by using meaningful keys to represent data.\"\"\"\n",
        "\n",
        "#Q12.Describe a scenario where using a tuple would be preferable over a list?\n",
        "\"\"\"Ans:As we know already that list is mutable means we can easily change and modify but tuples are immutable means cannot change and modify\"\"\"\n",
        "list = [\"shubhan\",27,12345]\n",
        "list[2] = 45678\n",
        "print(list)"
      ],
      "metadata": {
        "id": "WTu4R_EeCira"
      },
      "execution_count": null,
      "outputs": []
    },
    {
      "cell_type": "code",
      "source": [
        "#tuple = (\"shubhan\",27,12345)\n",
        "#tuple[2] = 45678\n",
        "#print(tuple) #in this line give error because some data need not to chnage and modify exp: id,adhar no.,pan no. so we use tuple.\n",
        "\n",
        "#Q13. How do sets handle duplicate values in Python?\n",
        "\"\"\"Ans:Set use only for unique element. When we add duplicate set ignore the dulicate value.\"\"\"\n",
        "set = {1,2,3,4,4,5,5,6,6}\n",
        "print(set)"
      ],
      "metadata": {
        "id": "YqBNq2A63Xg-"
      },
      "execution_count": null,
      "outputs": []
    },
    {
      "cell_type": "code",
      "source": [
        "#Q14. How does the “in” keyword work differently for lists and dictionaries?\n",
        "\"\"\"Ans:'In' keyword use in list to check element present in list or not if elment present print true otherwise false.\n",
        "list = (1,2,3,\"Ram\", 2.2)\n",
        "print(2 in list) true\n",
        "print(5 in list) false\n",
        "'in' keyword use in dictionaries to check existence of key.It does not check\n",
        " value.\n",
        " my_dict = {\"name\": \"shubham\", \"age\":27, \"city\":\"jaipur}\n",
        " print(\"age\" in my_dict)\"\"\"\n",
        "\n",
        " #Q15.Can you modify the elements of a tuple? Explain why or why not?\n",
        " \"\"\"Ans:Tuple can not modify and change beacause it is immutable.\n",
        " there are is some reasons.\n",
        " 1.Data integrity\n",
        " 2.Efficiency\n",
        " 3.Hashing for data structure\n",
        " if you want modify tuple here exp\n",
        " my_tuple = (1,2,3,4)\n",
        "new_tuple = my_tuple + (5:)\n",
        "print(new_tuple) \"\"\""
      ],
      "metadata": {
        "id": "BjeJv96s5fT8"
      },
      "execution_count": null,
      "outputs": []
    },
    {
      "cell_type": "code",
      "source": [
        "#Q16.What is a nested dictionary, and give an example of its use case?\n",
        "\"\"\"Ans:A nested dictionary is a dictionary where the values are themselves dictionaries.\n",
        " employees = {\n",
        "    \"employee1\": {\n",
        "        \"name\": \"Alice\",\n",
        "        \"age\": 30,\n",
        "        \"department\": \"Sales\"\n",
        "    },\n",
        "    \"employee2\": {\n",
        "        \"name\": \"Bob\",\n",
        "        \"age\": 25,\n",
        "        \"department\": \"Engineering\"\n",
        "    }\n",
        "}\n",
        "\"\"\"\n",
        "\n",
        "#Q17.Describe the time complexity of accessing elements in a dictionary?\n",
        "\"\"\"Ans:In the dictionary data store in the form of key-value pairs.This process is also known as a hash table and avg time complexity is also known as constant time O(1).\n",
        "Worst case where multiple keys mapping to same indexing is also known as chaining.Time complexity is also known as O(n) where n is the number of elemnets in the dictionary.\n",
        "\"\"\"\n",
        "#Q18. In what situations are lists preferred over dictionaries?.\n",
        "\"\"\"Ans:These are some situations where are lists are more preferred over dictionaries.\n",
        "1.When order matters:In the lists element arranged in order form if order of your data is important then list are better as dictionaries.Dictionaries, on the other hand, do not guarantee any specific order of elements.\n",
        "2.When You Need to Access Elements by Index:Lists access the element by indexing (numerical indexing) but in the dictionaries the values store as key-values form value access by indexing does not provide.\n",
        "3.When You Have a Sequence of Similar Data:If you have a lot of similar data that list naturally fit but dictinory suitable for key-value form.\n",
        "4.When You Need to Modify the Data:Lists are mutable in nature means you can modify and change the values but dictionaries also mutable but we can modify only values.\"\"\"\n",
        "\n",
        "#Q19. Why are dictionaries considered unordered, and how does that affect data retrieval?\n",
        "\"\"\"Ans:Dictionaries store the data in the form key-value.Dictionaries uesed hash table based fast key lookup rather than maintaing oreder.\n",
        "Its also affected data retrival because unordered output.Dictionaries used hash table which focus on key lookup rather than maintaining order.\"\"\"\n",
        "\n",
        "#20. Explain the difference between a list and a dictionary in terms of data retrieval?\n",
        "\"\"\"Ans:List:Data retrival by indexing: In dictionaries we store data by indexing\n",
        "Dictionaries:In the dictionaries data retrival by keys.\n",
        "\"\"\""
      ],
      "metadata": {
        "id": "-JT5zmR7-Sfk"
      },
      "execution_count": null,
      "outputs": []
    },
    {
      "cell_type": "code",
      "source": [
        "#Q1.Write a code to create a string with your name and print it?\n",
        "#Ans:\n",
        "my_stirng = \"shubham\"\n",
        "print(my_stirng)"
      ],
      "metadata": {
        "id": "yvYJFRL5b6Xq"
      },
      "execution_count": null,
      "outputs": []
    },
    {
      "cell_type": "code",
      "source": [
        "#Q2.Write a code to find the length of the string \"Hello World\"?\n",
        "#Ans:\n",
        "my_string = \"Hello world\"\n",
        "print(len(my_string))"
      ],
      "metadata": {
        "id": "iz6Rxm2acftq"
      },
      "execution_count": null,
      "outputs": []
    },
    {
      "cell_type": "code",
      "source": [
        "#Q3.Write a code to slice the first 3 characters from the string \"Python Programming\"\n",
        "#Ans:\n",
        "my_string = \"Python Programmimg\"\n",
        "slice = my_string[:3]\n",
        "print(slice)"
      ],
      "metadata": {
        "id": "rrsK5jM4c8q2"
      },
      "execution_count": null,
      "outputs": []
    },
    {
      "cell_type": "code",
      "source": [
        "#Q4.Write a code to convert the string \"hello\" to uppercase?\n",
        "#Ans:\n",
        "a = \"hello\"\n",
        "print(a.upper())"
      ],
      "metadata": {
        "id": "wqKXEI3ZFlIz"
      },
      "execution_count": null,
      "outputs": []
    },
    {
      "cell_type": "code",
      "source": [
        "#Q5.Write a code to replace the word \"apple\" with \"orange\" in the string \"I like apple\"?\n",
        "#Ans:\n",
        "string = \"I like apple\"\n",
        "print(string.replace(\"apple\",\"orange.\"))"
      ],
      "metadata": {
        "id": "qiY8E_gZGTdU"
      },
      "execution_count": null,
      "outputs": []
    },
    {
      "cell_type": "code",
      "source": [
        "#Q6.Write a code to create a list with numbers 1 to 5 and print it?\n",
        "list = [1,2,3,4,5]\n",
        "print(list)"
      ],
      "metadata": {
        "id": "uAUlthFaHrZz"
      },
      "execution_count": null,
      "outputs": []
    },
    {
      "cell_type": "code",
      "source": [
        "#Q7.Write a code to append the number 10 to the list [1, 2, 3, 4]?\n",
        "#Ans:\n",
        "list = [1,2,3,4]\n",
        "list.append(10)\n",
        "print(list)"
      ],
      "metadata": {
        "id": "NdW2GfnrH_EK"
      },
      "execution_count": null,
      "outputs": []
    },
    {
      "cell_type": "code",
      "source": [
        "#Q8.Write a code to remove the number 3 from the\n",
        "list = [1, 2, 3, 4, 5]\n",
        "list.remove(3)\n",
        "print(list)"
      ],
      "metadata": {
        "id": "SG8KI7c2JGa7"
      },
      "execution_count": null,
      "outputs": []
    },
    {
      "cell_type": "code",
      "source": [
        "#Q9. #Write a code to access the second element in the list ['a', 'b', 'c', 'd']\n",
        "#Ans:\n",
        "list = ['a', 'b', 'c', 'd']\n",
        "print(list[1])"
      ],
      "metadata": {
        "id": "1PbFv4reKCiz"
      },
      "execution_count": null,
      "outputs": []
    },
    {
      "cell_type": "code",
      "source": [
        "#Q10.Write a code to reverse the list [10, 20, 30, 40, 50].\n",
        "#Ans:\n",
        "list = [10, 20, 30, 40, 50]\n",
        "reverse_list = list[::-1]\n",
        "print(reverse_list)"
      ],
      "metadata": {
        "id": "A8mqZGqiKfhk"
      },
      "execution_count": null,
      "outputs": []
    },
    {
      "cell_type": "code",
      "source": [
        "#Q11.Write a code to create a tuple with the elements 100, 200, 300 and print it.\n",
        "#Ans:\n",
        "tuple =(100, 200, 300 )\n",
        "print(tuple)"
      ],
      "metadata": {
        "id": "DndX_LqmLUY6"
      },
      "execution_count": null,
      "outputs": []
    },
    {
      "cell_type": "code",
      "source": [
        "#Q12.Write a code to access the second-to-last element of the tuple ('red', 'green', 'blue', 'yellow')\n",
        "tuple = ('red', 'green', 'blue', 'yellow')\n",
        "print(tuple[-2])"
      ],
      "metadata": {
        "id": "o1PW77-4Lm9q"
      },
      "execution_count": null,
      "outputs": []
    },
    {
      "cell_type": "code",
      "source": [
        "#Q13.Write a code to find the minimum number in the tuple (10, 20, 5, 15).\n",
        "#Ans:\n",
        "tuple = (10,20,5,15)\n",
        "print(min(tuple))"
      ],
      "metadata": {
        "id": "a4din8geL0-i"
      },
      "execution_count": null,
      "outputs": []
    },
    {
      "cell_type": "code",
      "source": [
        "#Q14. Write a code to find the index of the element \"cat\" in the tuple ('dog', 'cat', 'rabbit')?\n",
        "#Ans:\n",
        "tuple = ('dog', 'cat', 'rabbit')\n",
        "print(tuple[1])"
      ],
      "metadata": {
        "id": "qrJdK3P4MKzb"
      },
      "execution_count": null,
      "outputs": []
    },
    {
      "cell_type": "code",
      "source": [
        "#Q15.Write a code to create a tuple containing three different fruits and check if \"kiwi\" is in it?\n",
        "#Ans:\n",
        "tuple = (\"apple\",\"orange\",\"kiwi\")\n",
        "print(\"kiwi\" in tuple)"
      ],
      "metadata": {
        "id": "LgYflkgyMjBD"
      },
      "execution_count": null,
      "outputs": []
    },
    {
      "cell_type": "code",
      "source": [
        "#Q16.Write a code to create a set with the elements 'a', 'b', 'c' and print it.\n",
        "#Ans:\n",
        "set = {\"a\",\"b\",\"c\"}\n",
        "print(set)"
      ],
      "metadata": {
        "id": "n6BC6VCTNBI7"
      },
      "execution_count": null,
      "outputs": []
    },
    {
      "cell_type": "code",
      "source": [
        "#Q17.Write a code to clear all elements from the set {1, 2, 3, 4, 5}.\n",
        "#Ans:\n",
        "set = {1,2,3,4,5}\n",
        "set.clear()\n",
        "print(set)"
      ],
      "metadata": {
        "id": "vc1lENVsNcl7"
      },
      "execution_count": null,
      "outputs": []
    },
    {
      "cell_type": "code",
      "source": [
        "#Q18. Write a code to remove the element 4 from the set {1, 2, 3, 4}.\n",
        "set = {1,2,3,4,}\n",
        "set.remove(4)\n",
        "print(set)"
      ],
      "metadata": {
        "id": "bfZyVeppNv6j"
      },
      "execution_count": null,
      "outputs": []
    },
    {
      "cell_type": "code",
      "source": [
        "#Q19. Write a code to find the union of two sets {1, 2, 3} and {3, 4, 5}.\n",
        "#Ans:\n",
        "set1 = {1,2,3}\n",
        "set2 = {3,4,5}\n",
        "union_set = set1|set2\n",
        "print(union_set)"
      ],
      "metadata": {
        "id": "2t7oV6rQOBYb"
      },
      "execution_count": null,
      "outputs": []
    },
    {
      "cell_type": "code",
      "source": [
        "#Q20.Write a code to find the intersection of two sets {1, 2, 3} and {2, 3, 4}.\n",
        "#Ans:\n",
        "set1 = {1,2,3}\n",
        "set2 = {3,4,5}\n",
        "intersection_set = set1&set2\n",
        "print(intersection_set)"
      ],
      "metadata": {
        "id": "CkVrshsBO3-T"
      },
      "execution_count": null,
      "outputs": []
    },
    {
      "cell_type": "code",
      "source": [
        "#Q21.Write a code to create a dictionary with the keys \"name\", \"age\", and \"city\", and print it.\n",
        "#Ans:\n",
        "dict = {\"Name\" : \"Shubham\", \"Age\" : 27, \"city\" : \"jaipur\"}\n",
        "print(dict)"
      ],
      "metadata": {
        "id": "LUSOpyN_VaR2"
      },
      "execution_count": null,
      "outputs": []
    },
    {
      "cell_type": "code",
      "source": [
        "#Q22.Write a code to add a new key-value pair \"country\": \"USA\" to the dictionary {'name': 'John', 'age': 25}\n",
        "#Ans:\n",
        "dict = {\"Name\" : \"John\", \"age\" : 25}\n",
        "dict[\"country\"] = \"USA\"\n",
        "print(dict)"
      ],
      "metadata": {
        "id": "1ftN7y8TV1nY"
      },
      "execution_count": null,
      "outputs": []
    },
    {
      "cell_type": "code",
      "source": [
        "#Q23.Write a code to access the value associated with the key \"name\" in the dictionary {'name': 'Alice', 'age': 30}.\n",
        "#Ans:\n",
        "dict = {\"Name\" : \"Alice\", \"age\" : 30}\n",
        "print(dict[\"Name\"]) #We can access only value not key."
      ],
      "metadata": {
        "id": "aZUbo1T_WfFY"
      },
      "execution_count": null,
      "outputs": []
    },
    {
      "cell_type": "code",
      "source": [
        "#Q24.Write a code to remove the key \"age\" from the dictionary {'name': 'Bob', 'age': 22, 'city': 'New York'}.\n",
        "#Ans:\n",
        "dict = {\"Name\" : \"Bob\", \"age\" : 22, \"city\" : \"New York\"}\n",
        "dict.pop(\"age\")\n",
        "print(dict)"
      ],
      "metadata": {
        "id": "Ln3YgS2BXQ0A"
      },
      "execution_count": null,
      "outputs": []
    },
    {
      "cell_type": "code",
      "source": [
        "#Q25. Write a code to check if the key \"city\" exists in the dictionary {'name': 'Alice', 'city': 'Paris'}.\n",
        "#Ans:\n",
        "dict = {\"Name\" : \"Alice\",\"city\" : 'paris'}\n",
        "print('city' in dict)"
      ],
      "metadata": {
        "id": "OVnslqawYUif"
      },
      "execution_count": null,
      "outputs": []
    },
    {
      "cell_type": "code",
      "source": [
        "#Q26.Write a code to create a list, a tuple, and a dictionary, and print them all.\n",
        "#Ans:\n",
        "list = [1,2,3,4]\n",
        "tuple = (1,2,3,4)\n",
        "dict = {\"Name\" : \"shubham\", \"age\" : 27, \"city\" : \"jaipur\"}\n",
        "print(list)\n",
        "print(tuple)\n",
        "print(dict)"
      ],
      "metadata": {
        "id": "_3_LkE_H4BRd"
      },
      "execution_count": null,
      "outputs": []
    },
    {
      "cell_type": "code",
      "source": [
        "#Q27.Write a code to create a list of 5 random numbers between 1 and 100, sort it in ascending order, and print the\n",
        "#Ans:\n",
        "import random\n",
        "random_list = [random.randint(1,100) for _ in range(5)]\n",
        "random_list.sort()\n",
        "print(random_list)"
      ],
      "metadata": {
        "id": "DZl31qdR4WyE"
      },
      "execution_count": null,
      "outputs": []
    },
    {
      "cell_type": "code",
      "source": [
        "#Q28. Write a code to create a list with strings and print the element at the third index.\n",
        "#Ans:\n",
        "list = ['shubham','27','123','verma','orange']\n",
        "print(list[3])"
      ],
      "metadata": {
        "id": "NUiCmGEO6eWv"
      },
      "execution_count": null,
      "outputs": []
    },
    {
      "cell_type": "code",
      "source": [
        "#Q29 Write a code to combine two dictionaries into one and print the result?\n",
        "#Ans:\n",
        "dict1 = {'a' : 1, 'b' : 2}\n",
        "dict2 = {'c' : 3, 'd' : 4}\n",
        "dict1.update(dict2)\n",
        "print(dict1)"
      ],
      "metadata": {
        "id": "scM9UwM_7A98"
      },
      "execution_count": null,
      "outputs": []
    }
  ]
}